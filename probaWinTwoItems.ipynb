import math
import numpy as np
import matplotlib.pyplot as plt

q11=0.8;
q21=0.4;
q01=0.55;

q12=1-q11;
q22=1-q21;
q02=1-q01;

s_p=q12/q11;
s_m=q21/q22;
s1=q01*(1-s_p);
s2=q02*(1-s_m);
# print(s_p)
# print(s_m)
def proba1win(x):
    if x<=0:
        return s1/(s1+s2)*s_p**(-x);
    else:
        return 1-s2/(s1+s2)*s_m**x;

x=range(-10,10);
y=list(proba1win(z) for z in x);
# print(x);
# print(y);

fig, ax = plt.subplots()
ax.plot(x, y)

ax.set(xlabel='time (s)', ylabel='voltage (mV)',
       title='About as simple as it gets, folks')
ax.grid()

# fig.savefig("test.png")
plt.show()
